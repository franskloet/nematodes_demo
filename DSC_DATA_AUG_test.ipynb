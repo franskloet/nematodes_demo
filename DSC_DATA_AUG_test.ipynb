{
  "nbformat": 4,
  "nbformat_minor": 0,
  "metadata": {
    "colab": {
      "provenance": [],
      "collapsed_sections": []
    },
    "kernelspec": {
      "name": "python3",
      "display_name": "Python 3"
    },
    "language_info": {
      "name": "python"
    }
  },
  "cells": [
    {
      "cell_type": "markdown",
      "source": [
        "# Data Augmentation for class identification in a Petrie box"
      ],
      "metadata": {
        "id": "zirZfgsSggZ_"
      }
    },
    {
      "cell_type": "code",
      "source": [
        "import random\n",
        "import numpy as np\n",
        "from PIL import ImageFilter\n",
        "from PIL import Image\n",
        "\n"
      ],
      "metadata": {
        "id": "iDjAIUdvM5gr"
      },
      "execution_count": 28,
      "outputs": []
    },
    {
      "cell_type": "code",
      "source": [
        "def create_random_images(nb_images, name, image_size):\n",
        "\n",
        "  list_of_images = []\n",
        "  list_of_coco   = []\n",
        "\n",
        "  #Creation of the blank starting image\n",
        "  blank_image = np.zeros([image_size,image_size,3],dtype=np.uint8)\n",
        "  blank_image.fill(255)\n",
        "  blank_image = Image.fromarray(blank_image, mode=\"RGB\")\n",
        "\n",
        "\n",
        "  for i in range(nb_images):\n",
        "    \n",
        "    #setting up the random numbers of elements to include in the picture\n",
        "    nb_hatched   = 43 #random.randint(20, 100)\n",
        "    nb_unhatched = random.randint(20, 100)\n",
        "    nb_worms     = random.randint(20, 100)\n",
        "    image_name   = name+str(i)\n",
        "    image        = blank_image.copy() \n",
        "    list_labels  = []\n",
        "    \n",
        "    for j in range(nb_hatched):\n",
        "      image, label_dict = add_hatched(image, image_size, image_name)\n",
        "      list_labels.append(label_dict)\n",
        "\n",
        "    \"\"\"for k in range(nb_unhatched):\n",
        "      image, label_dict = add_unhatched(image, image_size, image_name)\n",
        "      list_labels.append(label_dict)\n",
        "\n",
        "    for l in range(nb_unhatched):\n",
        "      image, label_dict = add_worms(image, image_size, image_name)\n",
        "      list_labels.append(label_dict)\"\"\"\n",
        "    \n",
        "    list_of_coco.append(list_labels) \n",
        "    list_of_images.append(image)\n",
        "  \n",
        "  #coco_json = into_coco(list_of_coco)\n",
        "\n",
        "  return list_of_images, list_of_coco#coco_json"
      ],
      "metadata": {
        "id": "hzR3xXpoHP19"
      },
      "execution_count": 65,
      "outputs": []
    },
    {
      "cell_type": "code",
      "source": [
        "def add_hatched(image, image_size, image_name):\n",
        "\n",
        "  #standard value\n",
        "  height  = 4 #FOR EXAMPLE\n",
        "  width   = 5 #FOR EXAMPLE\n",
        "  \n",
        "  #the code below is just for an example. Otherwise fetch an image of Unhatched eggs and put it in the PIL Image format with height and with\n",
        "  hatched = np.zeros([40,20,3],dtype=np.uint8)\n",
        "  hatched.fill(0)\n",
        "  hatched = Image.fromarray(hatched, mode=\"RGB\")\n",
        "\n",
        "  insertion_x = random.randint(0, image_size)\n",
        "  insertion_y = random.randint(0, image_size)\n",
        "\n",
        "  #Possible transformations:\n",
        "  transfo = random.choice([\"nothing\", \"alter\", \"reduce\", \"augment\"])\n",
        "\n",
        "  if transfo == \"alter\":\n",
        "    #alter the quality \n",
        "    hatched.filter(ImageFilter.BLUR)\n",
        "  \n",
        "  if transfo == \"reduce\": \n",
        "    #randomly reduce the size (slightly for the eggs)\n",
        "    height  = 3 #FOR EXAMPLE\n",
        "    width   = 4\n",
        "  \n",
        "  if transfo == \"augment\": \n",
        "    #randomly augment the size (slightly for the eggs)\n",
        "    height  = 5 #FOR EXAMPLE\n",
        "    width   = 6\n",
        "\n",
        "  \"\"\"rotation = random.choice([\"y\", \"n\"])\n",
        "  if rotation == \"y\":\n",
        "     #rotate the element randomly, be careful to update the height and width otherwise problem with the bounding box\"\"\"\n",
        "  \n",
        "  #Insert the element in the image\n",
        "  image.paste(hatched, (insertion_x,insertion_y))\n",
        "\n",
        "  #Preparation of the bounding box\n",
        "  point_a = (insertion_x - width/2, insertion_y + height/2)\n",
        "  point_b = (insertion_x + width/2, insertion_y + height/2)\n",
        "  point_c = (insertion_x + width/2, insertion_y - height/2)\n",
        "  point_d = (insertion_x - width/2, insertion_y - height/2)\n",
        "\n",
        "  #Bounding box dictionary\n",
        "  label_dict = {\n",
        "  \"image_name\": image_name,\n",
        "  \"class_name\": \"hatched\",\n",
        "  \"point_a\"   : point_a,\n",
        "  \"point_b\"   : point_b,\n",
        "  \"point_c\"   : point_c,\n",
        "  \"point_d\"   : point_d\n",
        "}\n",
        "\n",
        "  return image, label_dict\n"
      ],
      "metadata": {
        "id": "pQKMd2v0MFKO"
      },
      "execution_count": 34,
      "outputs": []
    },
    {
      "cell_type": "code",
      "source": [
        "im, dic = create_random_images(1, \"testimage\", 2000)"
      ],
      "metadata": {
        "id": "O0C6sVs5d5sq"
      },
      "execution_count": 68,
      "outputs": []
    },
    {
      "cell_type": "code",
      "source": [
        "imshow(np.asarray(im[0]))"
      ],
      "metadata": {
        "colab": {
          "base_uri": "https://localhost:8080/",
          "height": 287
        },
        "id": "UHd5auMGeVgj",
        "outputId": "018b1325-1443-47ae-c6da-ff8ffbd4268d"
      },
      "execution_count": 69,
      "outputs": [
        {
          "output_type": "execute_result",
          "data": {
            "text/plain": [
              "<matplotlib.image.AxesImage at 0x7f8e712731d0>"
            ]
          },
          "metadata": {},
          "execution_count": 69
        },
        {
          "output_type": "display_data",
          "data": {
            "text/plain": [
              "<Figure size 432x288 with 1 Axes>"
            ],
            "image/png": "[encoded data removed]"
          },
          "metadata": {
            "needs_background": "light"
          }
        }
      ]
    },
    {
      "cell_type": "markdown",
      "source": [
        "# [EXAMPLE] Paste an image"
      ],
      "metadata": {
        "id": "0A17xCrJY9Nm"
      }
    },
    {
      "cell_type": "code",
      "source": [],
      "metadata": {
        "id": "1Vm9LIu_Y899"
      },
      "execution_count": null,
      "outputs": []
    },
    {
      "cell_type": "code",
      "source": [
        "from PIL import Image\n",
        "import numpy as np\n",
        "a = np.full((1, 1), 255)\n",
        "im = Image.fromarray(a, mode=\"RGB\")\n",
        "im.getpixel((0, 0))  # (44, 1, 0)"
      ],
      "metadata": {
        "colab": {
          "base_uri": "https://localhost:8080/"
        },
        "id": "gGUG6W4EVLXP",
        "outputId": "021d4a33-217a-4981-f3fe-6f65b47e3da1"
      },
      "execution_count": 70,
      "outputs": [
        {
          "output_type": "execute_result",
          "data": {
            "text/plain": [
              "(255, 0, 0)"
            ]
          },
          "metadata": {},
          "execution_count": 70
        }
      ]
    },
    {
      "cell_type": "code",
      "source": [
        "im = np.zeros([23,23,3],dtype=np.uint8)\n",
        "im.fill(143)\n",
        "im = Image.fromarray(im, mode=\"RGB\")\n",
        "imshow(np.asarray(im))"
      ],
      "metadata": {
        "colab": {
          "base_uri": "https://localhost:8080/",
          "height": 283
        },
        "id": "1MJymc08YmUE",
        "outputId": "132becb4-69e5-4d17-94a1-96d2fbca4f6b"
      },
      "execution_count": 71,
      "outputs": [
        {
          "output_type": "execute_result",
          "data": {
            "text/plain": [
              "<matplotlib.image.AxesImage at 0x7f8e71254f50>"
            ]
          },
          "metadata": {},
          "execution_count": 71
        },
        {
          "output_type": "display_data",
          "data": {
            "text/plain": [
              "<Figure size 432x288 with 1 Axes>"
            ],
            "image/png": "[encoded data removed]"
          },
          "metadata": {
            "needs_background": "light"
          }
        }
      ]
    },
    {
      "cell_type": "code",
      "source": [
        "blank_image = np.zeros([232,232,3],dtype=np.uint8)\n",
        "blank_image.fill(255)\n",
        "im2 = Image.fromarray(blank_image, mode=\"RGB\")\n",
        "imshow(np.asarray(im2))"
      ],
      "metadata": {
        "colab": {
          "base_uri": "https://localhost:8080/",
          "height": 287
        },
        "id": "fsIPHcA3VWxO",
        "outputId": "12c384b5-9d22-448a-a847-9e54068ada7c"
      },
      "execution_count": 72,
      "outputs": [
        {
          "output_type": "execute_result",
          "data": {
            "text/plain": [
              "<matplotlib.image.AxesImage at 0x7f8e711b9ed0>"
            ]
          },
          "metadata": {},
          "execution_count": 72
        },
        {
          "output_type": "display_data",
          "data": {
            "text/plain": [
              "<Figure size 432x288 with 1 Axes>"
            ],
            "image/png": "[encoded data removed]"
          },
          "metadata": {
            "needs_background": "light"
          }
        }
      ]
    },
    {
      "cell_type": "code",
      "source": [
        "im2.paste(im, (0,0))"
      ],
      "metadata": {
        "id": "a-7jnfJ1YF2I"
      },
      "execution_count": 73,
      "outputs": []
    },
    {
      "cell_type": "code",
      "source": [
        "imshow(np.asarray(im2))"
      ],
      "metadata": {
        "colab": {
          "base_uri": "https://localhost:8080/",
          "height": 287
        },
        "id": "TRjIpRf6Ydjk",
        "outputId": "0b00ecb5-295e-4606-a6be-30dc3cb4840a"
      },
      "execution_count": 74,
      "outputs": [
        {
          "output_type": "execute_result",
          "data": {
            "text/plain": [
              "<matplotlib.image.AxesImage at 0x7f8e7119e850>"
            ]
          },
          "metadata": {},
          "execution_count": 74
        },
        {
          "output_type": "display_data",
          "data": {
            "text/plain": [
              "<Figure size 432x288 with 1 Axes>"
            ],
            "image/png": "[encoded data removed]"
          },
          "metadata": {
            "needs_background": "light"
          }
        }
      ]
    },
    {
      "cell_type": "code",
      "source": [
        "im2.paste(im, (202,123))\n",
        "imshow(np.asarray(im2))"
      ],
      "metadata": {
        "colab": {
          "base_uri": "https://localhost:8080/",
          "height": 287
        },
        "id": "wiYGHmvjYeyQ",
        "outputId": "0d017e40-03cc-4a58-e0ab-3f1c711e074e"
      },
      "execution_count": 75,
      "outputs": [
        {
          "output_type": "execute_result",
          "data": {
            "text/plain": [
              "<matplotlib.image.AxesImage at 0x7f8e71102a90>"
            ]
          },
          "metadata": {},
          "execution_count": 75
        },
        {
          "output_type": "display_data",
          "data": {
            "text/plain": [
              "<Figure size 432x288 with 1 Axes>"
            ],
            "image/png": "[encoded data removed]"
          },
          "metadata": {
            "needs_background": "light"
          }
        }
      ]
    },
    {
      "cell_type": "code",
      "source": [],
      "metadata": {
        "id": "aqJ9wGEcZExz"
      },
      "execution_count": null,
      "outputs": []
    }
  ]
}